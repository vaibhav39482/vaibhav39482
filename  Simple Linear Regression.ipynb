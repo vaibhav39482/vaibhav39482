{
 "cells": [
  {
   "cell_type": "code",
   "execution_count": 3,
   "id": "b2019847",
   "metadata": {},
   "outputs": [],
   "source": [
    "import numpy as np\n",
    "import pandas as pd\n",
    "\n",
    "import matplotlib.pyplot as plt\n",
    "%matplotlib inline\n",
    "\n",
    "import seaborn as sns\n"
   ]
  },
  {
   "cell_type": "markdown",
   "id": "269aae0e",
   "metadata": {},
   "source": [
    "Data Understanding"
   ]
  },
  {
   "cell_type": "code",
   "execution_count": 12,
   "id": "eba642b5",
   "metadata": {},
   "outputs": [
    {
     "data": {
      "text/html": [
       "<div>\n",
       "<style scoped>\n",
       "    .dataframe tbody tr th:only-of-type {\n",
       "        vertical-align: middle;\n",
       "    }\n",
       "\n",
       "    .dataframe tbody tr th {\n",
       "        vertical-align: top;\n",
       "    }\n",
       "\n",
       "    .dataframe thead th {\n",
       "        text-align: right;\n",
       "    }\n",
       "</style>\n",
       "<table border=\"1\" class=\"dataframe\">\n",
       "  <thead>\n",
       "    <tr style=\"text-align: right;\">\n",
       "      <th></th>\n",
       "      <th>TV</th>\n",
       "      <th>radio</th>\n",
       "      <th>newspaper</th>\n",
       "      <th>sales</th>\n",
       "    </tr>\n",
       "  </thead>\n",
       "  <tbody>\n",
       "    <tr>\n",
       "      <th>0</th>\n",
       "      <td>230100</td>\n",
       "      <td>37800</td>\n",
       "      <td>69200</td>\n",
       "      <td>22100</td>\n",
       "    </tr>\n",
       "    <tr>\n",
       "      <th>1</th>\n",
       "      <td>44500</td>\n",
       "      <td>39300</td>\n",
       "      <td>45100</td>\n",
       "      <td>10400</td>\n",
       "    </tr>\n",
       "    <tr>\n",
       "      <th>2</th>\n",
       "      <td>17200</td>\n",
       "      <td>45900</td>\n",
       "      <td>69300</td>\n",
       "      <td>9300</td>\n",
       "    </tr>\n",
       "    <tr>\n",
       "      <th>3</th>\n",
       "      <td>151500</td>\n",
       "      <td>41300</td>\n",
       "      <td>58500</td>\n",
       "      <td>18500</td>\n",
       "    </tr>\n",
       "    <tr>\n",
       "      <th>4</th>\n",
       "      <td>180800</td>\n",
       "      <td>10800</td>\n",
       "      <td>58400</td>\n",
       "      <td>12900</td>\n",
       "    </tr>\n",
       "  </tbody>\n",
       "</table>\n",
       "</div>"
      ],
      "text/plain": [
       "       TV  radio  newspaper  sales\n",
       "0  230100  37800      69200  22100\n",
       "1   44500  39300      45100  10400\n",
       "2   17200  45900      69300   9300\n",
       "3  151500  41300      58500  18500\n",
       "4  180800  10800      58400  12900"
      ]
     },
     "execution_count": 12,
     "metadata": {},
     "output_type": "execute_result"
    }
   ],
   "source": [
    "df=pd.read_csv('Advertising.csv')\n",
    "df.head()"
   ]
  },
  {
   "cell_type": "code",
   "execution_count": 13,
   "id": "0938bb87",
   "metadata": {},
   "outputs": [
    {
     "name": "stdout",
     "output_type": "stream",
     "text": [
      "<class 'pandas.core.frame.DataFrame'>\n",
      "RangeIndex: 200 entries, 0 to 199\n",
      "Data columns (total 4 columns):\n",
      " #   Column     Non-Null Count  Dtype\n",
      "---  ------     --------------  -----\n",
      " 0   TV         200 non-null    int64\n",
      " 1   radio      200 non-null    int64\n",
      " 2   newspaper  200 non-null    int64\n",
      " 3   sales      200 non-null    int64\n",
      "dtypes: int64(4)\n",
      "memory usage: 6.4 KB\n"
     ]
    }
   ],
   "source": [
    "df.info()"
   ]
  },
  {
   "cell_type": "markdown",
   "id": "9b55090a",
   "metadata": {},
   "source": [
    "Creating  total_spend column "
   ]
  },
  {
   "cell_type": "code",
   "execution_count": 14,
   "id": "8e5e7bec",
   "metadata": {},
   "outputs": [
    {
     "data": {
      "text/html": [
       "<div>\n",
       "<style scoped>\n",
       "    .dataframe tbody tr th:only-of-type {\n",
       "        vertical-align: middle;\n",
       "    }\n",
       "\n",
       "    .dataframe tbody tr th {\n",
       "        vertical-align: top;\n",
       "    }\n",
       "\n",
       "    .dataframe thead th {\n",
       "        text-align: right;\n",
       "    }\n",
       "</style>\n",
       "<table border=\"1\" class=\"dataframe\">\n",
       "  <thead>\n",
       "    <tr style=\"text-align: right;\">\n",
       "      <th></th>\n",
       "      <th>TV</th>\n",
       "      <th>radio</th>\n",
       "      <th>newspaper</th>\n",
       "      <th>sales</th>\n",
       "      <th>total_spend</th>\n",
       "    </tr>\n",
       "  </thead>\n",
       "  <tbody>\n",
       "    <tr>\n",
       "      <th>0</th>\n",
       "      <td>230100</td>\n",
       "      <td>37800</td>\n",
       "      <td>69200</td>\n",
       "      <td>22100</td>\n",
       "      <td>337100</td>\n",
       "    </tr>\n",
       "    <tr>\n",
       "      <th>1</th>\n",
       "      <td>44500</td>\n",
       "      <td>39300</td>\n",
       "      <td>45100</td>\n",
       "      <td>10400</td>\n",
       "      <td>128900</td>\n",
       "    </tr>\n",
       "    <tr>\n",
       "      <th>2</th>\n",
       "      <td>17200</td>\n",
       "      <td>45900</td>\n",
       "      <td>69300</td>\n",
       "      <td>9300</td>\n",
       "      <td>132400</td>\n",
       "    </tr>\n",
       "    <tr>\n",
       "      <th>3</th>\n",
       "      <td>151500</td>\n",
       "      <td>41300</td>\n",
       "      <td>58500</td>\n",
       "      <td>18500</td>\n",
       "      <td>251300</td>\n",
       "    </tr>\n",
       "    <tr>\n",
       "      <th>4</th>\n",
       "      <td>180800</td>\n",
       "      <td>10800</td>\n",
       "      <td>58400</td>\n",
       "      <td>12900</td>\n",
       "      <td>250000</td>\n",
       "    </tr>\n",
       "  </tbody>\n",
       "</table>\n",
       "</div>"
      ],
      "text/plain": [
       "       TV  radio  newspaper  sales  total_spend\n",
       "0  230100  37800      69200  22100       337100\n",
       "1   44500  39300      45100  10400       128900\n",
       "2   17200  45900      69300   9300       132400\n",
       "3  151500  41300      58500  18500       251300\n",
       "4  180800  10800      58400  12900       250000"
      ]
     },
     "execution_count": 14,
     "metadata": {},
     "output_type": "execute_result"
    }
   ],
   "source": [
    "df['total_spend']=df['TV'] +df['radio']+ df['newspaper']\n",
    "df.head()"
   ]
  },
  {
   "cell_type": "code",
   "execution_count": 15,
   "id": "27e91b27",
   "metadata": {},
   "outputs": [],
   "source": [
    "df.drop(columns=['TV','radio','newspaper'],inplace=True)"
   ]
  },
  {
   "cell_type": "markdown",
   "id": "e63ae433",
   "metadata": {},
   "source": [
    "# Exploratory  Data  Analysis(EDA)"
   ]
  },
  {
   "cell_type": "code",
   "execution_count": 16,
   "id": "3420d3cd",
   "metadata": {},
   "outputs": [
    {
     "data": {
      "text/html": [
       "<div>\n",
       "<style scoped>\n",
       "    .dataframe tbody tr th:only-of-type {\n",
       "        vertical-align: middle;\n",
       "    }\n",
       "\n",
       "    .dataframe tbody tr th {\n",
       "        vertical-align: top;\n",
       "    }\n",
       "\n",
       "    .dataframe thead th {\n",
       "        text-align: right;\n",
       "    }\n",
       "</style>\n",
       "<table border=\"1\" class=\"dataframe\">\n",
       "  <thead>\n",
       "    <tr style=\"text-align: right;\">\n",
       "      <th></th>\n",
       "      <th>sales</th>\n",
       "      <th>total_spend</th>\n",
       "    </tr>\n",
       "  </thead>\n",
       "  <tbody>\n",
       "    <tr>\n",
       "      <th>count</th>\n",
       "      <td>200.000000</td>\n",
       "      <td>200.000000</td>\n",
       "    </tr>\n",
       "    <tr>\n",
       "      <th>mean</th>\n",
       "      <td>14022.500000</td>\n",
       "      <td>200860.500000</td>\n",
       "    </tr>\n",
       "    <tr>\n",
       "      <th>std</th>\n",
       "      <td>5217.456566</td>\n",
       "      <td>92985.180587</td>\n",
       "    </tr>\n",
       "    <tr>\n",
       "      <th>min</th>\n",
       "      <td>1600.000000</td>\n",
       "      <td>11700.000000</td>\n",
       "    </tr>\n",
       "    <tr>\n",
       "      <th>25%</th>\n",
       "      <td>10375.000000</td>\n",
       "      <td>123550.000000</td>\n",
       "    </tr>\n",
       "    <tr>\n",
       "      <th>50%</th>\n",
       "      <td>12900.000000</td>\n",
       "      <td>207350.000000</td>\n",
       "    </tr>\n",
       "    <tr>\n",
       "      <th>75%</th>\n",
       "      <td>17400.000000</td>\n",
       "      <td>281125.000000</td>\n",
       "    </tr>\n",
       "    <tr>\n",
       "      <th>max</th>\n",
       "      <td>27000.000000</td>\n",
       "      <td>433600.000000</td>\n",
       "    </tr>\n",
       "  </tbody>\n",
       "</table>\n",
       "</div>"
      ],
      "text/plain": [
       "              sales    total_spend\n",
       "count    200.000000     200.000000\n",
       "mean   14022.500000  200860.500000\n",
       "std     5217.456566   92985.180587\n",
       "min     1600.000000   11700.000000\n",
       "25%    10375.000000  123550.000000\n",
       "50%    12900.000000  207350.000000\n",
       "75%    17400.000000  281125.000000\n",
       "max    27000.000000  433600.000000"
      ]
     },
     "execution_count": 16,
     "metadata": {},
     "output_type": "execute_result"
    }
   ],
   "source": [
    "df.describe()"
   ]
  },
  {
   "cell_type": "code",
   "execution_count": 17,
   "id": "80a5a52c",
   "metadata": {},
   "outputs": [
    {
     "data": {
      "image/png": "[encoded data removed]",
      "text/plain": [
       "<Figure size 360x360 with 6 Axes>"
      ]
     },
     "metadata": {
      "needs_background": "light"
     },
     "output_type": "display_data"
    }
   ],
   "source": [
    "sns.pairplot(df)\n",
    "plt.show()"
   ]
  },
  {
   "cell_type": "code",
   "execution_count": 18,
   "id": "08deb5c7",
   "metadata": {},
   "outputs": [
    {
     "data": {
      "text/html": [
       "<div>\n",
       "<style scoped>\n",
       "    .dataframe tbody tr th:only-of-type {\n",
       "        vertical-align: middle;\n",
       "    }\n",
       "\n",
       "    .dataframe tbody tr th {\n",
       "        vertical-align: top;\n",
       "    }\n",
       "\n",
       "    .dataframe thead th {\n",
       "        text-align: right;\n",
       "    }\n",
       "</style>\n",
       "<table border=\"1\" class=\"dataframe\">\n",
       "  <thead>\n",
       "    <tr style=\"text-align: right;\">\n",
       "      <th></th>\n",
       "      <th>sales</th>\n",
       "      <th>total_spend</th>\n",
       "    </tr>\n",
       "  </thead>\n",
       "  <tbody>\n",
       "    <tr>\n",
       "      <th>sales</th>\n",
       "      <td>1.000000</td>\n",
       "      <td>0.867712</td>\n",
       "    </tr>\n",
       "    <tr>\n",
       "      <th>total_spend</th>\n",
       "      <td>0.867712</td>\n",
       "      <td>1.000000</td>\n",
       "    </tr>\n",
       "  </tbody>\n",
       "</table>\n",
       "</div>"
      ],
      "text/plain": [
       "                sales  total_spend\n",
       "sales        1.000000     0.867712\n",
       "total_spend  0.867712     1.000000"
      ]
     },
     "execution_count": 18,
     "metadata": {},
     "output_type": "execute_result"
    }
   ],
   "source": [
    "df.corr()"
   ]
  },
  {
   "cell_type": "markdown",
   "id": "7dac3e33",
   "metadata": {},
   "source": [
    "# Data  Cleaning"
   ]
  },
  {
   "cell_type": "code",
   "execution_count": 19,
   "id": "2efbf0e6",
   "metadata": {},
   "outputs": [
    {
     "data": {
      "text/plain": [
       "sales          0\n",
       "total_spend    0\n",
       "dtype: int64"
      ]
     },
     "execution_count": 19,
     "metadata": {},
     "output_type": "execute_result"
    }
   ],
   "source": [
    "df.isnull().sum()"
   ]
  },
  {
   "cell_type": "markdown",
   "id": "3232ed1a",
   "metadata": {},
   "source": [
    "# Train Test Split"
   ]
  },
  {
   "cell_type": "code",
   "execution_count": 20,
   "id": "fcef0dd8",
   "metadata": {},
   "outputs": [],
   "source": [
    "x=df.drop(columns='sales')\n",
    "y=df['sales']"
   ]
  },
  {
   "cell_type": "code",
   "execution_count": 21,
   "id": "ecd1fbb3",
   "metadata": {},
   "outputs": [],
   "source": [
    "from sklearn.model_selection import train_test_split\n",
    "x_train,x_test,y_train,y_test=train_test_split(x,y, test_size=0.3, random_state=42)"
   ]
  },
  {
   "cell_type": "markdown",
   "id": "beba12b5",
   "metadata": {},
   "source": [
    "# Modelling "
   ]
  },
  {
   "cell_type": "code",
   "execution_count": 22,
   "id": "cf8e545c",
   "metadata": {},
   "outputs": [],
   "source": [
    "#import\n",
    "from sklearn.linear_model import LinearRegression"
   ]
  },
  {
   "cell_type": "code",
   "execution_count": 23,
   "id": "95929abd",
   "metadata": {},
   "outputs": [],
   "source": [
    "#Save the model\n",
    "model=LinearRegression()"
   ]
  },
  {
   "cell_type": "code",
   "execution_count": 24,
   "id": "0b7143df",
   "metadata": {},
   "outputs": [
    {
     "data": {
      "text/plain": [
       "LinearRegression()"
      ]
     },
     "execution_count": 24,
     "metadata": {},
     "output_type": "execute_result"
    }
   ],
   "source": [
    "#fit\n",
    "model.fit(x_train,y_train)"
   ]
  },
  {
   "cell_type": "code",
   "execution_count": 25,
   "id": "dc3aef86",
   "metadata": {},
   "outputs": [
    {
     "data": {
      "text/plain": [
       "array([0.04895385])"
      ]
     },
     "execution_count": 25,
     "metadata": {},
     "output_type": "execute_result"
    }
   ],
   "source": [
    "model.coef_"
   ]
  },
  {
   "cell_type": "code",
   "execution_count": 31,
   "id": "058ac9d1",
   "metadata": {},
   "outputs": [],
   "source": [
    "train_predictions=model.predict(x_train)"
   ]
  },
  {
   "cell_type": "code",
   "execution_count": 29,
   "id": "e75e9474",
   "metadata": {},
   "outputs": [],
   "source": [
    "test_predictions=model.predict(x_test)"
   ]
  },
  {
   "cell_type": "markdown",
   "id": "088858c7",
   "metadata": {},
   "source": [
    "# Evaluation"
   ]
  },
  {
   "cell_type": "code",
   "execution_count": 32,
   "id": "266f9338",
   "metadata": {},
   "outputs": [
    {
     "name": "stdout",
     "output_type": "stream",
     "text": [
      "MAE for test data: 1914.3627368130553\n",
      "MAE for train data: 1963.9767578200754\n"
     ]
    }
   ],
   "source": [
    "from sklearn.metrics import mean_absolute_error\n",
    "print('MAE for test data:',mean_absolute_error(y_test,test_predictions))\n",
    "print('MAE for train data:',mean_absolute_error(y_train,train_predictions))"
   ]
  },
  {
   "cell_type": "code",
   "execution_count": 34,
   "id": "b2d6a1b1",
   "metadata": {},
   "outputs": [
    {
     "name": "stdout",
     "output_type": "stream",
     "text": [
      "MSE for test data: 6415866.312543215\n",
      "MSE for train data: 6811655.464246886\n"
     ]
    }
   ],
   "source": [
    "from sklearn.metrics import mean_squared_error\n",
    "print('MSE for test data:',mean_squared_error(y_test,test_predictions))\n",
    "print('MSE for train data:',mean_squared_error(y_train,train_predictions))"
   ]
  },
  {
   "cell_type": "code",
   "execution_count": 35,
   "id": "7da42240",
   "metadata": {},
   "outputs": [
    {
     "name": "stdout",
     "output_type": "stream",
     "text": [
      "RMSE for test data: 2532.956042362997\n",
      "RMSE for train data: 2609.9148385046756\n"
     ]
    }
   ],
   "source": [
    "\n",
    "print('RMSE for test data:',np.sqrt(mean_squared_error(y_test,test_predictions)))\n",
    "print('RMSE for train data:',np.sqrt(mean_squared_error(y_train,train_predictions)))"
   ]
  },
  {
   "cell_type": "code",
   "execution_count": 36,
   "id": "532ea080",
   "metadata": {},
   "outputs": [
    {
     "name": "stdout",
     "output_type": "stream",
     "text": [
      "R2 for test data: 0.7650262463310724\n",
      "R2 for test data: 0.7404192834391545\n"
     ]
    }
   ],
   "source": [
    "from sklearn.metrics import r2_score\n",
    "print('R2 for test data:',r2_score(y_test,test_predictions))\n",
    "print('R2 for test data:',r2_score(y_train,train_predictions))"
   ]
  },
  {
   "cell_type": "code",
   "execution_count": 38,
   "id": "587df999",
   "metadata": {},
   "outputs": [
    {
     "data": {
      "text/plain": [
       "0.7650262463310724"
      ]
     },
     "execution_count": 38,
     "metadata": {},
     "output_type": "execute_result"
    }
   ],
   "source": [
    "#Test R_square\n",
    "model.score(x_test,y_test)"
   ]
  },
  {
   "cell_type": "markdown",
   "id": "031cc08f",
   "metadata": {},
   "source": [
    "# Checklist"
   ]
  },
  {
   "cell_type": "markdown",
   "id": "345b8f51",
   "metadata": {},
   "source": [
    "IS test accuracy= Cross validation Score"
   ]
  },
  {
   "cell_type": "code",
   "execution_count": 45,
   "id": "a2d17f50",
   "metadata": {},
   "outputs": [
    {
     "name": "stdout",
     "output_type": "stream",
     "text": [
      "[0.74964192 0.79455226 0.76417134 0.74872042 0.65980565]\n",
      "cross validation score: 0.7433783178555419\n"
     ]
    }
   ],
   "source": [
    "from sklearn.model_selection import cross_val_score\n",
    "scores = cross_val_score(model, x, y, cv=5)\n",
    "print(scores)\n",
    "\n",
    "cv_score=scores.mean()\n",
    "print('cross validation score:',cv_score)"
   ]
  },
  {
   "cell_type": "markdown",
   "id": "92e20821",
   "metadata": {},
   "source": [
    "# Linearity of Errors"
   ]
  },
  {
   "cell_type": "code",
   "execution_count": 46,
   "id": "ae2f213f",
   "metadata": {},
   "outputs": [],
   "source": [
    "test_res=y_test-test_predictions"
   ]
  },
  {
   "cell_type": "code",
   "execution_count": 47,
   "id": "bfdc870a",
   "metadata": {},
   "outputs": [
    {
     "data": {
      "image/png": "[encoded data removed]",
      "text/plain": [
       "<Figure size 432x288 with 1 Axes>"
      ]
     },
     "metadata": {
      "needs_background": "light"
     },
     "output_type": "display_data"
    }
   ],
   "source": [
    "plt.scatter(y_test,test_res)\n",
    "plt.xlabel('observed_values')\n",
    "plt.ylabel('fitted_values')\n",
    "plt.show()"
   ]
  },
  {
   "cell_type": "markdown",
   "id": "36f2f5aa",
   "metadata": {},
   "source": [
    "# Normality of Errors "
   ]
  },
  {
   "cell_type": "code",
   "execution_count": 48,
   "id": "f1b98078",
   "metadata": {},
   "outputs": [
    {
     "data": {
      "image/png": "[encoded data removed]",
      "text/plain": [
       "<Figure size 360x360 with 1 Axes>"
      ]
     },
     "metadata": {
      "needs_background": "light"
     },
     "output_type": "display_data"
    }
   ],
   "source": [
    "sns.displot(test_res,kde=True)\n",
    "plt.show()"
   ]
  },
  {
   "cell_type": "markdown",
   "id": "c54d897d",
   "metadata": {},
   "source": [
    "# Homoscadesicity"
   ]
  },
  {
   "cell_type": "code",
   "execution_count": 50,
   "id": "248f4a6a",
   "metadata": {},
   "outputs": [
    {
     "data": {
      "image/png": "[encoded data removed]",
      "text/plain": [
       "<Figure size 432x288 with 1 Axes>"
      ]
     },
     "metadata": {
      "needs_background": "light"
     },
     "output_type": "display_data"
    }
   ],
   "source": [
    "plt.scatter(test_predictions,test_res,c='r')\n",
    "plt.axhline(y=0,color='blue')\n",
    "plt.xlabel('fitted_values')\n",
    "plt.ylabel('residuals')\n",
    "plt.show()"
   ]
  },
  {
   "cell_type": "markdown",
   "id": "74ed95e0",
   "metadata": {},
   "source": [
    "# Variable significance"
   ]
  },
  {
   "cell_type": "code",
   "execution_count": 52,
   "id": "30c16630",
   "metadata": {},
   "outputs": [
    {
     "data": {
      "text/html": [
       "<table class=\"simpletable\">\n",
       "<caption>OLS Regression Results</caption>\n",
       "<tr>\n",
       "  <th>Dep. Variable:</th>            <td>y</td>        <th>  R-squared:         </th> <td>   0.753</td>\n",
       "</tr>\n",
       "<tr>\n",
       "  <th>Model:</th>                   <td>OLS</td>       <th>  Adj. R-squared:    </th> <td>   0.752</td>\n",
       "</tr>\n",
       "<tr>\n",
       "  <th>Method:</th>             <td>Least Squares</td>  <th>  F-statistic:       </th> <td>   603.4</td>\n",
       "</tr>\n",
       "<tr>\n",
       "  <th>Date:</th>             <td>Wed, 21 Dec 2022</td> <th>  Prob (F-statistic):</th> <td>5.06e-62</td>\n",
       "</tr>\n",
       "<tr>\n",
       "  <th>Time:</th>                 <td>23:14:23</td>     <th>  Log-Likelihood:    </th> <td> -1855.4</td>\n",
       "</tr>\n",
       "<tr>\n",
       "  <th>No. Observations:</th>      <td>   200</td>      <th>  AIC:               </th> <td>   3715.</td>\n",
       "</tr>\n",
       "<tr>\n",
       "  <th>Df Residuals:</th>          <td>   198</td>      <th>  BIC:               </th> <td>   3721.</td>\n",
       "</tr>\n",
       "<tr>\n",
       "  <th>Df Model:</th>              <td>     1</td>      <th>                     </th>     <td> </td>   \n",
       "</tr>\n",
       "<tr>\n",
       "  <th>Covariance Type:</th>      <td>nonrobust</td>    <th>                     </th>     <td> </td>   \n",
       "</tr>\n",
       "</table>\n",
       "<table class=\"simpletable\">\n",
       "<tr>\n",
       "      <td></td>         <th>coef</th>     <th>std err</th>      <th>t</th>      <th>P>|t|</th>  <th>[0.025</th>    <th>0.975]</th>  \n",
       "</tr>\n",
       "<tr>\n",
       "  <th>Intercept</th> <td> 4243.0282</td> <td>  438.525</td> <td>    9.676</td> <td> 0.000</td> <td> 3378.249</td> <td> 5107.807</td>\n",
       "</tr>\n",
       "<tr>\n",
       "  <th>x</th>         <td>    0.0487</td> <td>    0.002</td> <td>   24.564</td> <td> 0.000</td> <td>    0.045</td> <td>    0.053</td>\n",
       "</tr>\n",
       "</table>\n",
       "<table class=\"simpletable\">\n",
       "<tr>\n",
       "  <th>Omnibus:</th>       <td> 6.851</td> <th>  Durbin-Watson:     </th> <td>   1.967</td>\n",
       "</tr>\n",
       "<tr>\n",
       "  <th>Prob(Omnibus):</th> <td> 0.033</td> <th>  Jarque-Bera (JB):  </th> <td>   6.692</td>\n",
       "</tr>\n",
       "<tr>\n",
       "  <th>Skew:</th>          <td>-0.373</td> <th>  Prob(JB):          </th> <td>  0.0352</td>\n",
       "</tr>\n",
       "<tr>\n",
       "  <th>Kurtosis:</th>      <td> 3.495</td> <th>  Cond. No.          </th> <td>5.28e+05</td>\n",
       "</tr>\n",
       "</table><br/><br/>Notes:<br/>[1] Standard Errors assume that the covariance matrix of the errors is correctly specified.<br/>[2] The condition number is large, 5.28e+05. This might indicate that there are<br/>strong multicollinearity or other numerical problems."
      ],
      "text/plain": [
       "<class 'statsmodels.iolib.summary.Summary'>\n",
       "\"\"\"\n",
       "                            OLS Regression Results                            \n",
       "==============================================================================\n",
       "Dep. Variable:                      y   R-squared:                       0.753\n",
       "Model:                            OLS   Adj. R-squared:                  0.752\n",
       "Method:                 Least Squares   F-statistic:                     603.4\n",
       "Date:                Wed, 21 Dec 2022   Prob (F-statistic):           5.06e-62\n",
       "Time:                        23:14:23   Log-Likelihood:                -1855.4\n",
       "No. Observations:                 200   AIC:                             3715.\n",
       "Df Residuals:                     198   BIC:                             3721.\n",
       "Df Model:                           1                                         \n",
       "Covariance Type:            nonrobust                                         \n",
       "==============================================================================\n",
       "                 coef    std err          t      P>|t|      [0.025      0.975]\n",
       "------------------------------------------------------------------------------\n",
       "Intercept   4243.0282    438.525      9.676      0.000    3378.249    5107.807\n",
       "x              0.0487      0.002     24.564      0.000       0.045       0.053\n",
       "==============================================================================\n",
       "Omnibus:                        6.851   Durbin-Watson:                   1.967\n",
       "Prob(Omnibus):                  0.033   Jarque-Bera (JB):                6.692\n",
       "Skew:                          -0.373   Prob(JB):                       0.0352\n",
       "Kurtosis:                       3.495   Cond. No.                     5.28e+05\n",
       "==============================================================================\n",
       "\n",
       "Notes:\n",
       "[1] Standard Errors assume that the covariance matrix of the errors is correctly specified.\n",
       "[2] The condition number is large, 5.28e+05. This might indicate that there are\n",
       "strong multicollinearity or other numerical problems.\n",
       "\"\"\""
      ]
     },
     "execution_count": 52,
     "metadata": {},
     "output_type": "execute_result"
    }
   ],
   "source": [
    "import statsmodels.formula.api as smf\n",
    "mode12=smf.ols('y~x',data=df).fit()\n",
    "mode12.summary()"
   ]
  },
  {
   "cell_type": "markdown",
   "id": "5067f69e",
   "metadata": {},
   "source": [
    "# Final inference"
   ]
  },
  {
   "cell_type": "code",
   "execution_count": 53,
   "id": "71d2ee6f",
   "metadata": {},
   "outputs": [
    {
     "name": "stderr",
     "output_type": "stream",
     "text": [
      "C:\\Users\\Atul Deshmukh\\anaconda3\\lib\\site-packages\\sklearn\\base.py:450: UserWarning: X does not have valid feature names, but LinearRegression was fitted with feature names\n",
      "  warnings.warn(\n"
     ]
    },
    {
     "data": {
      "text/plain": [
       "array([23780.64568165])"
      ]
     },
     "execution_count": 53,
     "metadata": {},
     "output_type": "execute_result"
    }
   ],
   "source": [
    "model.predict([[400000]])"
   ]
  },
  {
   "cell_type": "markdown",
   "id": "136cfd18",
   "metadata": {},
   "source": [
    "# Save and load model"
   ]
  },
  {
   "cell_type": "code",
   "execution_count": 54,
   "id": "e5f45ea7",
   "metadata": {},
   "outputs": [],
   "source": [
    "from joblib import dump"
   ]
  },
  {
   "cell_type": "code",
   "execution_count": 55,
   "id": "ccef401c",
   "metadata": {},
   "outputs": [
    {
     "data": {
      "text/plain": [
       "['sales_model.joblib']"
      ]
     },
     "execution_count": 55,
     "metadata": {},
     "output_type": "execute_result"
    }
   ],
   "source": [
    "dump(model,'sales_model.joblib')"
   ]
  },
  {
   "cell_type": "code",
   "execution_count": 56,
   "id": "6397deb2",
   "metadata": {},
   "outputs": [],
   "source": [
    "from joblib import load"
   ]
  },
  {
   "cell_type": "code",
   "execution_count": 59,
   "id": "8b128059",
   "metadata": {},
   "outputs": [],
   "source": [
    "loaded_model=load('sales_model.joblib')"
   ]
  },
  {
   "cell_type": "code",
   "execution_count": 61,
   "id": "e3a67186",
   "metadata": {},
   "outputs": [
    {
     "name": "stderr",
     "output_type": "stream",
     "text": [
      "C:\\Users\\Atul Deshmukh\\anaconda3\\lib\\site-packages\\sklearn\\base.py:450: UserWarning: X does not have valid feature names, but LinearRegression was fitted with feature names\n",
      "  warnings.warn(\n"
     ]
    },
    {
     "data": {
      "text/plain": [
       "array([38466.80006723])"
      ]
     },
     "execution_count": 61,
     "metadata": {},
     "output_type": "execute_result"
    }
   ],
   "source": [
    "loaded_model.predict([[700000]])"
   ]
  },
  {
   "cell_type": "code",
   "execution_count": null,
   "id": "6cf9e1d8",
   "metadata": {},
   "outputs": [],
   "source": []
  }
 ],
 "metadata": {
  "kernelspec": {
   "display_name": "Python 3 (ipykernel)",
   "language": "python",
   "name": "python3"
  },
  "language_info": {
   "codemirror_mode": {
    "name": "ipython",
    "version": 3
   },
   "file_extension": ".py",
   "mimetype": "text/x-python",
   "name": "python",
   "nbconvert_exporter": "python",
   "pygments_lexer": "ipython3",
   "version": "3.9.12"
  }
 },
 "nbformat": 4,
 "nbformat_minor": 5
}
